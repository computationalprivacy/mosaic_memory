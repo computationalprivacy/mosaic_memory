{
 "cells": [
  {
   "cell_type": "code",
   "execution_count": null,
   "id": "3fb59a93-8f34-4f49-9dba-89f0cc79770a",
   "metadata": {},
   "outputs": [],
   "source": [
    "import sys\n",
    "sys.path.append(\"PATH_TO_SRC_DIR\") # Replace with the actual path to your source directory\n",
    "\n",
    "# Enable hot autoreload\n",
    "%load_ext autoreload\n",
    "%autoreload 2"
   ]
  },
  {
   "cell_type": "code",
   "execution_count": 13,
   "id": "cacaf596-0603-4531-af0a-59e6192c84de",
   "metadata": {},
   "outputs": [],
   "source": [
    "import pickle\n",
    "import numpy as np\n",
    "from sklearn.metrics import roc_curve\n",
    "import torch\n",
    "from typing import Sequence\n",
    "from collections import defaultdict\n",
    "from transformers import AutoModelForCausalLM, AutoTokenizer, LlamaTokenizer, LlamaForCausalLM\n",
    "from utils import compute_perplexity, ratio_auc, min_k_prob\n",
    "import zlib\n",
    "from tqdm import tqdm\n",
    "\n",
    "np.random.seed(42)"
   ]
  },
  {
   "cell_type": "code",
   "execution_count": null,
   "id": "f7a28dad-15c3-4c18-b840-5c87ef9b4608",
   "metadata": {},
   "outputs": [],
   "source": [
    "OG_NON_MEMBER_PATH = \"SOME_DATA_DIR/non_members.pickle\"\n",
    "OG_CANARY_PATH = \"SOME_DATA_DIR/members.pickle\"\n",
    "\n",
    "LLAMA_TOKENIZER_PATH = \"SOME_DATA_DIR/Llama-2-7b-hf/\"\n",
    "LLAMA_MODEL_PATH = \"SOME_DATA_DIR/Llama-2-7b-hf/\"\n",
    "\n",
    "TARGET_MODEL = \"EleutherAI/gpt-neo-1.3B\""
   ]
  },
  {
   "cell_type": "code",
   "execution_count": 4,
   "id": "ad4841e5-b9dc-4587-95ef-1b3ddce13341",
   "metadata": {},
   "outputs": [
    {
     "name": "stderr",
     "output_type": "stream",
     "text": [
      "Loading checkpoint shards: 100%|██████████| 7/7 [01:45<00:00, 15.13s/it]\n",
      "/home/matthieu/miniconda3/envs/canary/lib/python3.9/site-packages/torch/cuda/__init__.py:734: UserWarning: Can't initialize NVML\n",
      "  warnings.warn(\"Can't initialize NVML\")\n"
     ]
    }
   ],
   "source": [
    "llama_device = \"cuda:1\"\n",
    "llama_tokenizer = LlamaTokenizer.from_pretrained(LLAMA_TOKENIZER_PATH, torch_dtype=torch.float16)\n",
    "llama_tokenizer.pad_token = llama_tokenizer.eos_token\n",
    "llama_model = LlamaForCausalLM.from_pretrained(LLAMA_MODEL_PATH).to(llama_device)\n",
    "\n",
    "target_tokenizer = AutoTokenizer.from_pretrained(TARGET_MODEL)\n",
    "target_tokenizer.pad_token = target_tokenizer.eos_token\n",
    "target_device = \"cuda:0\""
   ]
  },
  {
   "cell_type": "code",
   "execution_count": 5,
   "id": "b562cb14-46cd-4458-b204-40245dd13643",
   "metadata": {},
   "outputs": [],
   "source": [
    "# Let's get the canary text\n",
    "with open(OG_CANARY_PATH, 'rb') as f:\n",
    "    og_canaries = pickle.load(f)\n",
    "    \n",
    "og_canary_texts = [target_tokenizer.decode(og_canary) for og_canary in og_canaries]\n",
    "og_canary_texts_lower = [x.lower() for x in og_canary_texts]\n",
    "\n",
    "# and the non member text\n",
    "with open(OG_NON_MEMBER_PATH, 'rb') as f:\n",
    "    non_members = pickle.load(f)\n",
    "\n",
    "non_member_texts = [target_tokenizer.decode(non_member) for non_member in non_members]\n",
    "non_member_texts_lower = [x.lower() for x in non_member_texts]"
   ]
  },
  {
   "cell_type": "markdown",
   "id": "385d1781-40a5-4266-b231-225e88e9c8c3",
   "metadata": {},
   "source": [
    "What do we need for the AUC? \n",
    "\n",
    "So that's just using the croissant_T loss of the reference canary. \n",
    "\n",
    "And using the loss of the same croissant_T model on the non-members. "
   ]
  },
  {
   "cell_type": "code",
   "execution_count": 6,
   "id": "8a2532c8",
   "metadata": {},
   "outputs": [],
   "source": [
    "def roc_auc(members: Sequence[float], non_members: Sequence[float]):\n",
    "    y = []\n",
    "    y_true = []\n",
    "\n",
    "    y.extend(members)\n",
    "    y.extend(non_members)\n",
    "\n",
    "    y_true.extend([0] * len(members))\n",
    "    y_true.extend([1] * len(non_members))\n",
    "\n",
    "    fpr, tpr, _ = roc_curve(y_true, y)\n",
    "\n",
    "    return fpr, tpr"
   ]
  },
  {
   "cell_type": "code",
   "execution_count": 7,
   "id": "fd334b74",
   "metadata": {},
   "outputs": [],
   "source": [
    "def tpr_at_fpr(members, non_members, target_fpr):\n",
    "    fpr, tpr = roc_auc(members, non_members)\n",
    "\n",
    "    index = np.abs(fpr - target_fpr).argmin()\n",
    "    return tpr[index]"
   ]
  },
  {
   "cell_type": "code",
   "execution_count": 8,
   "id": "38261151-752f-4c25-b929-b73336d9ca3e",
   "metadata": {},
   "outputs": [],
   "source": [
    "def get_auc_with_bootstrapping(ratio_members, ratio_non_members, k=25):\n",
    "    all_aucs = list()\n",
    "    for _ in range(k):\n",
    "        subset_members = np.random.choice(ratio_members, len(ratio_members))\n",
    "        subset_non_members = np.random.choice(ratio_non_members, len(ratio_non_members))\n",
    "        auc = ratio_auc(members=subset_members, non_members=subset_non_members)\n",
    "        all_aucs.append(auc)\n",
    "    return np.array(all_aucs)"
   ]
  },
  {
   "cell_type": "code",
   "execution_count": 9,
   "id": "0828868a",
   "metadata": {},
   "outputs": [],
   "source": [
    "def ppl_from_text(texts, model, tokenizer, device):\n",
    "    tokens = tokenizer.batch_encode_plus(texts, return_tensors=\"pt\", padding=\"longest\").to(device)\n",
    "    ppl = compute_perplexity(\n",
    "        model,\n",
    "        tokens.input_ids[:, 1:],\n",
    "        tokens.attention_mask[:, 1:],\n",
    "        ignore_prefix=None\n",
    "    )\n",
    "\n",
    "    return ppl"
   ]
  },
  {
   "cell_type": "code",
   "execution_count": null,
   "id": "fe31a515",
   "metadata": {},
   "outputs": [],
   "source": [
    "ngrams = (2, 5, 10,)\n",
    "BASE_PATH = \"SOME_DATA_DIR/model_checkpoints/EleutherAI_gpt-neo-1.3B_checkpoints/EleutherAI_gpt-neo-1.3B_gptneo1B_near_duplicates_kendall_dist_0{kendall}_ngram_{ngram}_lr2e5\""
   ]
  },
  {
   "cell_type": "code",
   "execution_count": 15,
   "id": "a4414e4e",
   "metadata": {},
   "outputs": [],
   "source": [
    "ngram_to_kendal_vals = {\n",
    "    2: [1, 2, 3, 4, 5, 6, 7, 8, 9],\n",
    "    5: [1, 2, 3, 4, 5, 6, 7, 8, 9],\n",
    "    10: [2, 3, 4, 5, 6, 7, 8],\n",
    "}"
   ]
  },
  {
   "cell_type": "code",
   "execution_count": 16,
   "id": "f58ff9fd-9fca-42e1-84dc-81b5b749e7b1",
   "metadata": {},
   "outputs": [
    {
     "name": "stderr",
     "output_type": "stream",
     "text": [
      "  0%|          | 0/9 [00:00<?, ?it/s]"
     ]
    },
    {
     "name": "stderr",
     "output_type": "stream",
     "text": [
      "Loading checkpoint shards: 100%|██████████| 2/2 [00:15<00:00,  7.84s/it]\n"
     ]
    },
    {
     "name": "stdout",
     "output_type": "stream",
     "text": [
      "Running on non members...\n",
      "Running on canaries...\n"
     ]
    },
    {
     "name": "stderr",
     "output_type": "stream",
     "text": [
      " 11%|█         | 1/9 [01:03<08:31, 63.96s/it]"
     ]
    },
    {
     "name": "stdout",
     "output_type": "stream",
     "text": [
      "ngram=2, kendall=1, MIA=ratio, AUC = 0.93 ± 0.02, TPR @ 0.1 FPR = 0.79\n",
      "ngram=2, kendall=1, MIA=loss, AUC = 0.88 ± 0.02, TPR @ 0.1 FPR = 0.72\n",
      "ngram=2, kendall=1, MIA=lowercase, AUC = 0.70 ± 0.04, TPR @ 0.1 FPR = 0.28\n",
      "ngram=2, kendall=1, MIA=minkprob, AUC = 0.90 ± 0.02, TPR @ 0.1 FPR = 0.73\n",
      "ngram=2, kendall=1, MIA=zlib, AUC = 0.83 ± 0.03, TPR @ 0.1 FPR = 0.65\n",
      "-----\n"
     ]
    },
    {
     "name": "stderr",
     "output_type": "stream",
     "text": [
      "Loading checkpoint shards: 100%|██████████| 2/2 [00:18<00:00,  9.25s/it]\n"
     ]
    },
    {
     "name": "stdout",
     "output_type": "stream",
     "text": [
      "Running on non members...\n",
      "Running on canaries...\n"
     ]
    },
    {
     "name": "stderr",
     "output_type": "stream",
     "text": [
      " 22%|██▏       | 2/9 [02:10<07:37, 65.43s/it]"
     ]
    },
    {
     "name": "stdout",
     "output_type": "stream",
     "text": [
      "ngram=2, kendall=2, MIA=ratio, AUC = 0.90 ± 0.02, TPR @ 0.1 FPR = 0.75\n",
      "ngram=2, kendall=2, MIA=loss, AUC = 0.83 ± 0.03, TPR @ 0.1 FPR = 0.62\n",
      "ngram=2, kendall=2, MIA=lowercase, AUC = 0.67 ± 0.04, TPR @ 0.1 FPR = 0.28\n",
      "ngram=2, kendall=2, MIA=minkprob, AUC = 0.87 ± 0.03, TPR @ 0.1 FPR = 0.68\n",
      "ngram=2, kendall=2, MIA=zlib, AUC = 0.80 ± 0.04, TPR @ 0.1 FPR = 0.56\n",
      "-----\n"
     ]
    },
    {
     "name": "stderr",
     "output_type": "stream",
     "text": [
      "Loading checkpoint shards: 100%|██████████| 2/2 [00:14<00:00,  7.49s/it]\n"
     ]
    },
    {
     "name": "stdout",
     "output_type": "stream",
     "text": [
      "Running on non members...\n",
      "Running on canaries...\n"
     ]
    },
    {
     "name": "stderr",
     "output_type": "stream",
     "text": [
      " 33%|███▎      | 3/9 [03:08<06:12, 62.04s/it]"
     ]
    },
    {
     "name": "stdout",
     "output_type": "stream",
     "text": [
      "ngram=2, kendall=3, MIA=ratio, AUC = 0.86 ± 0.02, TPR @ 0.1 FPR = 0.61\n",
      "ngram=2, kendall=3, MIA=loss, AUC = 0.79 ± 0.03, TPR @ 0.1 FPR = 0.50\n",
      "ngram=2, kendall=3, MIA=lowercase, AUC = 0.64 ± 0.03, TPR @ 0.1 FPR = 0.25\n",
      "ngram=2, kendall=3, MIA=minkprob, AUC = 0.82 ± 0.03, TPR @ 0.1 FPR = 0.42\n",
      "ngram=2, kendall=3, MIA=zlib, AUC = 0.76 ± 0.04, TPR @ 0.1 FPR = 0.45\n",
      "-----\n"
     ]
    },
    {
     "name": "stderr",
     "output_type": "stream",
     "text": [
      "Loading checkpoint shards: 100%|██████████| 2/2 [00:10<00:00,  5.31s/it]\n"
     ]
    },
    {
     "name": "stdout",
     "output_type": "stream",
     "text": [
      "Running on non members...\n",
      "Running on canaries...\n"
     ]
    },
    {
     "name": "stderr",
     "output_type": "stream",
     "text": [
      " 44%|████▍     | 4/9 [04:01<04:52, 58.45s/it]"
     ]
    },
    {
     "name": "stdout",
     "output_type": "stream",
     "text": [
      "ngram=2, kendall=4, MIA=ratio, AUC = 0.83 ± 0.03, TPR @ 0.1 FPR = 0.51\n",
      "ngram=2, kendall=4, MIA=loss, AUC = 0.75 ± 0.03, TPR @ 0.1 FPR = 0.44\n",
      "ngram=2, kendall=4, MIA=lowercase, AUC = 0.62 ± 0.04, TPR @ 0.1 FPR = 0.19\n",
      "ngram=2, kendall=4, MIA=minkprob, AUC = 0.79 ± 0.04, TPR @ 0.1 FPR = 0.38\n",
      "ngram=2, kendall=4, MIA=zlib, AUC = 0.73 ± 0.03, TPR @ 0.1 FPR = 0.41\n",
      "-----\n"
     ]
    },
    {
     "name": "stderr",
     "output_type": "stream",
     "text": [
      "Loading checkpoint shards: 100%|██████████| 2/2 [00:15<00:00,  7.84s/it]\n"
     ]
    },
    {
     "name": "stdout",
     "output_type": "stream",
     "text": [
      "Running on non members...\n",
      "Running on canaries...\n"
     ]
    },
    {
     "name": "stderr",
     "output_type": "stream",
     "text": [
      " 56%|█████▌    | 5/9 [04:56<03:49, 57.35s/it]"
     ]
    },
    {
     "name": "stdout",
     "output_type": "stream",
     "text": [
      "ngram=2, kendall=5, MIA=ratio, AUC = 0.83 ± 0.02, TPR @ 0.1 FPR = 0.57\n",
      "ngram=2, kendall=5, MIA=loss, AUC = 0.77 ± 0.04, TPR @ 0.1 FPR = 0.43\n",
      "ngram=2, kendall=5, MIA=lowercase, AUC = 0.61 ± 0.04, TPR @ 0.1 FPR = 0.22\n",
      "ngram=2, kendall=5, MIA=minkprob, AUC = 0.80 ± 0.03, TPR @ 0.1 FPR = 0.41\n",
      "ngram=2, kendall=5, MIA=zlib, AUC = 0.73 ± 0.03, TPR @ 0.1 FPR = 0.38\n",
      "-----\n"
     ]
    },
    {
     "name": "stderr",
     "output_type": "stream",
     "text": [
      "Loading checkpoint shards: 100%|██████████| 2/2 [00:13<00:00,  6.90s/it]\n"
     ]
    },
    {
     "name": "stdout",
     "output_type": "stream",
     "text": [
      "Running on non members...\n",
      "Running on canaries...\n"
     ]
    },
    {
     "name": "stderr",
     "output_type": "stream",
     "text": [
      " 67%|██████▋   | 6/9 [05:57<02:55, 58.57s/it]"
     ]
    },
    {
     "name": "stdout",
     "output_type": "stream",
     "text": [
      "ngram=2, kendall=6, MIA=ratio, AUC = 0.80 ± 0.03, TPR @ 0.1 FPR = 0.52\n",
      "ngram=2, kendall=6, MIA=loss, AUC = 0.74 ± 0.04, TPR @ 0.1 FPR = 0.40\n",
      "ngram=2, kendall=6, MIA=lowercase, AUC = 0.60 ± 0.04, TPR @ 0.1 FPR = 0.22\n",
      "ngram=2, kendall=6, MIA=minkprob, AUC = 0.78 ± 0.04, TPR @ 0.1 FPR = 0.37\n",
      "ngram=2, kendall=6, MIA=zlib, AUC = 0.71 ± 0.05, TPR @ 0.1 FPR = 0.40\n",
      "-----\n"
     ]
    },
    {
     "name": "stderr",
     "output_type": "stream",
     "text": [
      "Loading checkpoint shards: 100%|██████████| 2/2 [00:18<00:00,  9.40s/it]\n"
     ]
    },
    {
     "name": "stdout",
     "output_type": "stream",
     "text": [
      "Running on non members...\n",
      "Running on canaries...\n"
     ]
    },
    {
     "name": "stderr",
     "output_type": "stream",
     "text": [
      " 78%|███████▊  | 7/9 [07:01<02:00, 60.28s/it]"
     ]
    },
    {
     "name": "stdout",
     "output_type": "stream",
     "text": [
      "ngram=2, kendall=7, MIA=ratio, AUC = 0.82 ± 0.03, TPR @ 0.1 FPR = 0.60\n",
      "ngram=2, kendall=7, MIA=loss, AUC = 0.76 ± 0.03, TPR @ 0.1 FPR = 0.46\n",
      "ngram=2, kendall=7, MIA=lowercase, AUC = 0.61 ± 0.04, TPR @ 0.1 FPR = 0.21\n",
      "ngram=2, kendall=7, MIA=minkprob, AUC = 0.81 ± 0.03, TPR @ 0.1 FPR = 0.39\n",
      "ngram=2, kendall=7, MIA=zlib, AUC = 0.73 ± 0.03, TPR @ 0.1 FPR = 0.38\n",
      "-----\n"
     ]
    },
    {
     "name": "stderr",
     "output_type": "stream",
     "text": [
      "Loading checkpoint shards: 100%|██████████| 2/2 [00:14<00:00,  7.44s/it]\n"
     ]
    },
    {
     "name": "stdout",
     "output_type": "stream",
     "text": [
      "Running on non members...\n",
      "Running on canaries...\n"
     ]
    },
    {
     "name": "stderr",
     "output_type": "stream",
     "text": [
      " 89%|████████▉ | 8/9 [08:01<01:00, 60.27s/it]"
     ]
    },
    {
     "name": "stdout",
     "output_type": "stream",
     "text": [
      "ngram=2, kendall=8, MIA=ratio, AUC = 0.80 ± 0.03, TPR @ 0.1 FPR = 0.52\n",
      "ngram=2, kendall=8, MIA=loss, AUC = 0.75 ± 0.03, TPR @ 0.1 FPR = 0.45\n",
      "ngram=2, kendall=8, MIA=lowercase, AUC = 0.62 ± 0.03, TPR @ 0.1 FPR = 0.21\n",
      "ngram=2, kendall=8, MIA=minkprob, AUC = 0.79 ± 0.03, TPR @ 0.1 FPR = 0.43\n",
      "ngram=2, kendall=8, MIA=zlib, AUC = 0.71 ± 0.04, TPR @ 0.1 FPR = 0.31\n",
      "-----\n"
     ]
    },
    {
     "name": "stderr",
     "output_type": "stream",
     "text": [
      "Loading checkpoint shards: 100%|██████████| 2/2 [00:11<00:00,  6.00s/it]\n"
     ]
    },
    {
     "name": "stdout",
     "output_type": "stream",
     "text": [
      "Running on non members...\n",
      "Running on canaries...\n"
     ]
    },
    {
     "name": "stderr",
     "output_type": "stream",
     "text": [
      "100%|██████████| 9/9 [08:53<00:00, 59.24s/it]\n"
     ]
    },
    {
     "name": "stdout",
     "output_type": "stream",
     "text": [
      "ngram=2, kendall=9, MIA=ratio, AUC = 0.81 ± 0.03, TPR @ 0.1 FPR = 0.51\n",
      "ngram=2, kendall=9, MIA=loss, AUC = 0.73 ± 0.04, TPR @ 0.1 FPR = 0.37\n",
      "ngram=2, kendall=9, MIA=lowercase, AUC = 0.60 ± 0.05, TPR @ 0.1 FPR = 0.17\n",
      "ngram=2, kendall=9, MIA=minkprob, AUC = 0.78 ± 0.03, TPR @ 0.1 FPR = 0.35\n",
      "ngram=2, kendall=9, MIA=zlib, AUC = 0.71 ± 0.04, TPR @ 0.1 FPR = 0.30\n",
      "-----\n"
     ]
    },
    {
     "name": "stderr",
     "output_type": "stream",
     "text": [
      "Loading checkpoint shards: 100%|██████████| 2/2 [00:17<00:00,  8.61s/it]\n"
     ]
    },
    {
     "name": "stdout",
     "output_type": "stream",
     "text": [
      "Running on non members...\n",
      "Running on canaries...\n"
     ]
    },
    {
     "name": "stderr",
     "output_type": "stream",
     "text": [
      " 11%|█         | 1/9 [01:03<08:29, 63.68s/it]"
     ]
    },
    {
     "name": "stdout",
     "output_type": "stream",
     "text": [
      "ngram=5, kendall=1, MIA=ratio, AUC = 0.94 ± 0.02, TPR @ 0.1 FPR = 0.88\n",
      "ngram=5, kendall=1, MIA=loss, AUC = 0.89 ± 0.03, TPR @ 0.1 FPR = 0.76\n",
      "ngram=5, kendall=1, MIA=lowercase, AUC = 0.68 ± 0.03, TPR @ 0.1 FPR = 0.29\n",
      "ngram=5, kendall=1, MIA=minkprob, AUC = 0.91 ± 0.02, TPR @ 0.1 FPR = 0.81\n",
      "ngram=5, kendall=1, MIA=zlib, AUC = 0.86 ± 0.03, TPR @ 0.1 FPR = 0.68\n",
      "-----\n"
     ]
    },
    {
     "name": "stderr",
     "output_type": "stream",
     "text": [
      "Loading checkpoint shards: 100%|██████████| 2/2 [00:16<00:00,  8.38s/it]\n"
     ]
    },
    {
     "name": "stdout",
     "output_type": "stream",
     "text": [
      "Running on non members...\n",
      "Running on canaries...\n"
     ]
    },
    {
     "name": "stderr",
     "output_type": "stream",
     "text": [
      " 22%|██▏       | 2/9 [02:05<07:17, 62.43s/it]"
     ]
    },
    {
     "name": "stdout",
     "output_type": "stream",
     "text": [
      "ngram=5, kendall=2, MIA=ratio, AUC = 0.93 ± 0.01, TPR @ 0.1 FPR = 0.76\n",
      "ngram=5, kendall=2, MIA=loss, AUC = 0.88 ± 0.02, TPR @ 0.1 FPR = 0.62\n",
      "ngram=5, kendall=2, MIA=lowercase, AUC = 0.67 ± 0.03, TPR @ 0.1 FPR = 0.31\n",
      "ngram=5, kendall=2, MIA=minkprob, AUC = 0.89 ± 0.02, TPR @ 0.1 FPR = 0.69\n",
      "ngram=5, kendall=2, MIA=zlib, AUC = 0.82 ± 0.02, TPR @ 0.1 FPR = 0.62\n",
      "-----\n"
     ]
    },
    {
     "name": "stderr",
     "output_type": "stream",
     "text": [
      "Loading checkpoint shards: 100%|██████████| 2/2 [00:13<00:00,  6.83s/it]\n"
     ]
    },
    {
     "name": "stdout",
     "output_type": "stream",
     "text": [
      "Running on non members...\n",
      "Running on canaries...\n"
     ]
    },
    {
     "name": "stderr",
     "output_type": "stream",
     "text": [
      " 33%|███▎      | 3/9 [03:01<05:57, 59.53s/it]"
     ]
    },
    {
     "name": "stdout",
     "output_type": "stream",
     "text": [
      "ngram=5, kendall=3, MIA=ratio, AUC = 0.90 ± 0.02, TPR @ 0.1 FPR = 0.76\n",
      "ngram=5, kendall=3, MIA=loss, AUC = 0.83 ± 0.02, TPR @ 0.1 FPR = 0.58\n",
      "ngram=5, kendall=3, MIA=lowercase, AUC = 0.67 ± 0.04, TPR @ 0.1 FPR = 0.27\n",
      "ngram=5, kendall=3, MIA=minkprob, AUC = 0.86 ± 0.03, TPR @ 0.1 FPR = 0.64\n",
      "ngram=5, kendall=3, MIA=zlib, AUC = 0.80 ± 0.03, TPR @ 0.1 FPR = 0.55\n",
      "-----\n"
     ]
    },
    {
     "name": "stderr",
     "output_type": "stream",
     "text": [
      "Loading checkpoint shards: 100%|██████████| 2/2 [00:12<00:00,  6.47s/it]\n"
     ]
    },
    {
     "name": "stdout",
     "output_type": "stream",
     "text": [
      "Running on non members...\n",
      "Running on canaries...\n"
     ]
    },
    {
     "name": "stderr",
     "output_type": "stream",
     "text": [
      " 44%|████▍     | 4/9 [04:01<04:58, 59.72s/it]"
     ]
    },
    {
     "name": "stdout",
     "output_type": "stream",
     "text": [
      "ngram=5, kendall=4, MIA=ratio, AUC = 0.90 ± 0.02, TPR @ 0.1 FPR = 0.73\n",
      "ngram=5, kendall=4, MIA=loss, AUC = 0.81 ± 0.03, TPR @ 0.1 FPR = 0.58\n",
      "ngram=5, kendall=4, MIA=lowercase, AUC = 0.64 ± 0.04, TPR @ 0.1 FPR = 0.29\n",
      "ngram=5, kendall=4, MIA=minkprob, AUC = 0.86 ± 0.02, TPR @ 0.1 FPR = 0.58\n",
      "ngram=5, kendall=4, MIA=zlib, AUC = 0.79 ± 0.03, TPR @ 0.1 FPR = 0.53\n",
      "-----\n"
     ]
    },
    {
     "name": "stderr",
     "output_type": "stream",
     "text": [
      "Loading checkpoint shards: 100%|██████████| 2/2 [00:17<00:00,  8.91s/it]\n"
     ]
    },
    {
     "name": "stdout",
     "output_type": "stream",
     "text": [
      "Running on non members...\n",
      "Running on canaries...\n"
     ]
    },
    {
     "name": "stderr",
     "output_type": "stream",
     "text": [
      " 56%|█████▌    | 5/9 [05:00<03:57, 59.43s/it]"
     ]
    },
    {
     "name": "stdout",
     "output_type": "stream",
     "text": [
      "ngram=5, kendall=5, MIA=ratio, AUC = 0.88 ± 0.02, TPR @ 0.1 FPR = 0.71\n",
      "ngram=5, kendall=5, MIA=loss, AUC = 0.79 ± 0.04, TPR @ 0.1 FPR = 0.55\n",
      "ngram=5, kendall=5, MIA=lowercase, AUC = 0.63 ± 0.03, TPR @ 0.1 FPR = 0.26\n",
      "ngram=5, kendall=5, MIA=minkprob, AUC = 0.84 ± 0.04, TPR @ 0.1 FPR = 0.56\n",
      "ngram=5, kendall=5, MIA=zlib, AUC = 0.78 ± 0.02, TPR @ 0.1 FPR = 0.44\n",
      "-----\n"
     ]
    },
    {
     "name": "stderr",
     "output_type": "stream",
     "text": [
      "Loading checkpoint shards: 100%|██████████| 2/2 [00:14<00:00,  7.42s/it]\n"
     ]
    },
    {
     "name": "stdout",
     "output_type": "stream",
     "text": [
      "Running on non members...\n",
      "Running on canaries...\n"
     ]
    },
    {
     "name": "stderr",
     "output_type": "stream",
     "text": [
      " 67%|██████▋   | 6/9 [05:54<02:53, 57.69s/it]"
     ]
    },
    {
     "name": "stdout",
     "output_type": "stream",
     "text": [
      "ngram=5, kendall=6, MIA=ratio, AUC = 0.88 ± 0.02, TPR @ 0.1 FPR = 0.68\n",
      "ngram=5, kendall=6, MIA=loss, AUC = 0.80 ± 0.03, TPR @ 0.1 FPR = 0.59\n",
      "ngram=5, kendall=6, MIA=lowercase, AUC = 0.63 ± 0.04, TPR @ 0.1 FPR = 0.23\n",
      "ngram=5, kendall=6, MIA=minkprob, AUC = 0.85 ± 0.03, TPR @ 0.1 FPR = 0.53\n",
      "ngram=5, kendall=6, MIA=zlib, AUC = 0.79 ± 0.02, TPR @ 0.1 FPR = 0.50\n",
      "-----\n"
     ]
    },
    {
     "name": "stderr",
     "output_type": "stream",
     "text": [
      "Loading checkpoint shards: 100%|██████████| 2/2 [00:10<00:00,  5.35s/it]\n"
     ]
    },
    {
     "name": "stdout",
     "output_type": "stream",
     "text": [
      "Running on non members...\n",
      "Running on canaries...\n"
     ]
    },
    {
     "name": "stderr",
     "output_type": "stream",
     "text": [
      " 78%|███████▊  | 7/9 [06:43<01:49, 54.74s/it]"
     ]
    },
    {
     "name": "stdout",
     "output_type": "stream",
     "text": [
      "ngram=5, kendall=7, MIA=ratio, AUC = 0.87 ± 0.02, TPR @ 0.1 FPR = 0.60\n",
      "ngram=5, kendall=7, MIA=loss, AUC = 0.80 ± 0.03, TPR @ 0.1 FPR = 0.59\n",
      "ngram=5, kendall=7, MIA=lowercase, AUC = 0.64 ± 0.03, TPR @ 0.1 FPR = 0.25\n",
      "ngram=5, kendall=7, MIA=minkprob, AUC = 0.84 ± 0.03, TPR @ 0.1 FPR = 0.43\n",
      "ngram=5, kendall=7, MIA=zlib, AUC = 0.78 ± 0.03, TPR @ 0.1 FPR = 0.47\n",
      "-----\n"
     ]
    },
    {
     "name": "stderr",
     "output_type": "stream",
     "text": [
      "Loading checkpoint shards: 100%|██████████| 2/2 [00:09<00:00,  4.57s/it]\n"
     ]
    },
    {
     "name": "stdout",
     "output_type": "stream",
     "text": [
      "Running on non members...\n",
      "Running on canaries...\n"
     ]
    },
    {
     "name": "stderr",
     "output_type": "stream",
     "text": [
      " 89%|████████▉ | 8/9 [07:33<00:53, 53.17s/it]"
     ]
    },
    {
     "name": "stdout",
     "output_type": "stream",
     "text": [
      "ngram=5, kendall=8, MIA=ratio, AUC = 0.87 ± 0.02, TPR @ 0.1 FPR = 0.63\n",
      "ngram=5, kendall=8, MIA=loss, AUC = 0.79 ± 0.03, TPR @ 0.1 FPR = 0.51\n",
      "ngram=5, kendall=8, MIA=lowercase, AUC = 0.64 ± 0.04, TPR @ 0.1 FPR = 0.23\n",
      "ngram=5, kendall=8, MIA=minkprob, AUC = 0.83 ± 0.04, TPR @ 0.1 FPR = 0.49\n",
      "ngram=5, kendall=8, MIA=zlib, AUC = 0.78 ± 0.03, TPR @ 0.1 FPR = 0.50\n",
      "-----\n"
     ]
    },
    {
     "name": "stderr",
     "output_type": "stream",
     "text": [
      "Loading checkpoint shards: 100%|██████████| 2/2 [00:18<00:00,  9.06s/it]\n"
     ]
    },
    {
     "name": "stdout",
     "output_type": "stream",
     "text": [
      "Running on non members...\n",
      "Running on canaries...\n"
     ]
    },
    {
     "name": "stderr",
     "output_type": "stream",
     "text": [
      "100%|██████████| 9/9 [08:39<00:00, 57.72s/it]\n"
     ]
    },
    {
     "name": "stdout",
     "output_type": "stream",
     "text": [
      "ngram=5, kendall=9, MIA=ratio, AUC = 0.86 ± 0.03, TPR @ 0.1 FPR = 0.73\n",
      "ngram=5, kendall=9, MIA=loss, AUC = 0.80 ± 0.04, TPR @ 0.1 FPR = 0.46\n",
      "ngram=5, kendall=9, MIA=lowercase, AUC = 0.64 ± 0.04, TPR @ 0.1 FPR = 0.26\n",
      "ngram=5, kendall=9, MIA=minkprob, AUC = 0.82 ± 0.03, TPR @ 0.1 FPR = 0.55\n",
      "ngram=5, kendall=9, MIA=zlib, AUC = 0.76 ± 0.04, TPR @ 0.1 FPR = 0.44\n",
      "-----\n"
     ]
    },
    {
     "name": "stderr",
     "output_type": "stream",
     "text": [
      "Loading checkpoint shards: 100%|██████████| 2/2 [00:17<00:00,  8.67s/it]\n"
     ]
    },
    {
     "name": "stdout",
     "output_type": "stream",
     "text": [
      "Running on non members...\n",
      "Running on canaries...\n"
     ]
    },
    {
     "name": "stderr",
     "output_type": "stream",
     "text": [
      " 14%|█▍        | 1/7 [00:58<05:50, 58.44s/it]"
     ]
    },
    {
     "name": "stdout",
     "output_type": "stream",
     "text": [
      "ngram=10, kendall=2, MIA=ratio, AUC = 0.94 ± 0.02, TPR @ 0.1 FPR = 0.88\n",
      "ngram=10, kendall=2, MIA=loss, AUC = 0.88 ± 0.02, TPR @ 0.1 FPR = 0.75\n",
      "ngram=10, kendall=2, MIA=lowercase, AUC = 0.68 ± 0.03, TPR @ 0.1 FPR = 0.32\n",
      "ngram=10, kendall=2, MIA=minkprob, AUC = 0.91 ± 0.02, TPR @ 0.1 FPR = 0.78\n",
      "ngram=10, kendall=2, MIA=zlib, AUC = 0.86 ± 0.02, TPR @ 0.1 FPR = 0.63\n",
      "-----\n"
     ]
    },
    {
     "name": "stderr",
     "output_type": "stream",
     "text": [
      "Loading checkpoint shards: 100%|██████████| 2/2 [00:10<00:00,  5.32s/it]\n"
     ]
    },
    {
     "name": "stdout",
     "output_type": "stream",
     "text": [
      "Running on non members...\n",
      "Running on canaries...\n"
     ]
    },
    {
     "name": "stderr",
     "output_type": "stream",
     "text": [
      " 29%|██▊       | 2/7 [01:50<04:33, 54.63s/it]"
     ]
    },
    {
     "name": "stdout",
     "output_type": "stream",
     "text": [
      "ngram=10, kendall=3, MIA=ratio, AUC = 0.94 ± 0.02, TPR @ 0.1 FPR = 0.84\n",
      "ngram=10, kendall=3, MIA=loss, AUC = 0.87 ± 0.02, TPR @ 0.1 FPR = 0.70\n",
      "ngram=10, kendall=3, MIA=lowercase, AUC = 0.68 ± 0.03, TPR @ 0.1 FPR = 0.28\n",
      "ngram=10, kendall=3, MIA=minkprob, AUC = 0.90 ± 0.02, TPR @ 0.1 FPR = 0.77\n",
      "ngram=10, kendall=3, MIA=zlib, AUC = 0.84 ± 0.02, TPR @ 0.1 FPR = 0.68\n",
      "-----\n"
     ]
    },
    {
     "name": "stderr",
     "output_type": "stream",
     "text": [
      "Loading checkpoint shards: 100%|██████████| 2/2 [00:12<00:00,  6.34s/it]\n"
     ]
    },
    {
     "name": "stdout",
     "output_type": "stream",
     "text": [
      "Running on non members...\n",
      "Running on canaries...\n"
     ]
    },
    {
     "name": "stderr",
     "output_type": "stream",
     "text": [
      " 43%|████▎     | 3/7 [02:41<03:32, 53.22s/it]"
     ]
    },
    {
     "name": "stdout",
     "output_type": "stream",
     "text": [
      "ngram=10, kendall=4, MIA=ratio, AUC = 0.93 ± 0.02, TPR @ 0.1 FPR = 0.78\n",
      "ngram=10, kendall=4, MIA=loss, AUC = 0.85 ± 0.02, TPR @ 0.1 FPR = 0.70\n",
      "ngram=10, kendall=4, MIA=lowercase, AUC = 0.67 ± 0.03, TPR @ 0.1 FPR = 0.31\n",
      "ngram=10, kendall=4, MIA=minkprob, AUC = 0.88 ± 0.03, TPR @ 0.1 FPR = 0.67\n",
      "ngram=10, kendall=4, MIA=zlib, AUC = 0.83 ± 0.03, TPR @ 0.1 FPR = 0.62\n",
      "-----\n"
     ]
    },
    {
     "name": "stderr",
     "output_type": "stream",
     "text": [
      "Loading checkpoint shards: 100%|██████████| 2/2 [00:09<00:00,  4.94s/it]\n"
     ]
    },
    {
     "name": "stdout",
     "output_type": "stream",
     "text": [
      "Running on non members...\n",
      "Running on canaries...\n"
     ]
    },
    {
     "name": "stderr",
     "output_type": "stream",
     "text": [
      " 57%|█████▋    | 4/7 [03:33<02:37, 52.63s/it]"
     ]
    },
    {
     "name": "stdout",
     "output_type": "stream",
     "text": [
      "ngram=10, kendall=5, MIA=ratio, AUC = 0.92 ± 0.02, TPR @ 0.1 FPR = 0.77\n",
      "ngram=10, kendall=5, MIA=loss, AUC = 0.85 ± 0.03, TPR @ 0.1 FPR = 0.67\n",
      "ngram=10, kendall=5, MIA=lowercase, AUC = 0.68 ± 0.04, TPR @ 0.1 FPR = 0.29\n",
      "ngram=10, kendall=5, MIA=minkprob, AUC = 0.88 ± 0.02, TPR @ 0.1 FPR = 0.73\n",
      "ngram=10, kendall=5, MIA=zlib, AUC = 0.81 ± 0.03, TPR @ 0.1 FPR = 0.66\n",
      "-----\n"
     ]
    },
    {
     "name": "stderr",
     "output_type": "stream",
     "text": [
      "Loading checkpoint shards: 100%|██████████| 2/2 [00:14<00:00,  7.29s/it]\n"
     ]
    },
    {
     "name": "stdout",
     "output_type": "stream",
     "text": [
      "Running on non members...\n",
      "Running on canaries...\n"
     ]
    },
    {
     "name": "stderr",
     "output_type": "stream",
     "text": [
      " 71%|███████▏  | 5/7 [04:31<01:48, 54.34s/it]"
     ]
    },
    {
     "name": "stdout",
     "output_type": "stream",
     "text": [
      "ngram=10, kendall=6, MIA=ratio, AUC = 0.92 ± 0.02, TPR @ 0.1 FPR = 0.79\n",
      "ngram=10, kendall=6, MIA=loss, AUC = 0.85 ± 0.02, TPR @ 0.1 FPR = 0.68\n",
      "ngram=10, kendall=6, MIA=lowercase, AUC = 0.66 ± 0.03, TPR @ 0.1 FPR = 0.29\n",
      "ngram=10, kendall=6, MIA=minkprob, AUC = 0.89 ± 0.02, TPR @ 0.1 FPR = 0.75\n",
      "ngram=10, kendall=6, MIA=zlib, AUC = 0.83 ± 0.03, TPR @ 0.1 FPR = 0.65\n",
      "-----\n"
     ]
    },
    {
     "name": "stderr",
     "output_type": "stream",
     "text": [
      "Loading checkpoint shards: 100%|██████████| 2/2 [00:16<00:00,  8.35s/it]\n"
     ]
    },
    {
     "name": "stdout",
     "output_type": "stream",
     "text": [
      "Running on non members...\n",
      "Running on canaries...\n"
     ]
    },
    {
     "name": "stderr",
     "output_type": "stream",
     "text": [
      " 86%|████████▌ | 6/7 [05:28<00:55, 55.55s/it]"
     ]
    },
    {
     "name": "stdout",
     "output_type": "stream",
     "text": [
      "ngram=10, kendall=7, MIA=ratio, AUC = 0.92 ± 0.02, TPR @ 0.1 FPR = 0.76\n",
      "ngram=10, kendall=7, MIA=loss, AUC = 0.85 ± 0.02, TPR @ 0.1 FPR = 0.68\n",
      "ngram=10, kendall=7, MIA=lowercase, AUC = 0.67 ± 0.04, TPR @ 0.1 FPR = 0.29\n",
      "ngram=10, kendall=7, MIA=minkprob, AUC = 0.88 ± 0.03, TPR @ 0.1 FPR = 0.70\n",
      "ngram=10, kendall=7, MIA=zlib, AUC = 0.83 ± 0.03, TPR @ 0.1 FPR = 0.62\n",
      "-----\n"
     ]
    },
    {
     "name": "stderr",
     "output_type": "stream",
     "text": [
      "Loading checkpoint shards: 100%|██████████| 2/2 [00:14<00:00,  7.30s/it]\n"
     ]
    },
    {
     "name": "stdout",
     "output_type": "stream",
     "text": [
      "Running on non members...\n",
      "Running on canaries...\n"
     ]
    },
    {
     "name": "stderr",
     "output_type": "stream",
     "text": [
      "100%|██████████| 7/7 [06:27<00:00, 55.39s/it]"
     ]
    },
    {
     "name": "stdout",
     "output_type": "stream",
     "text": [
      "ngram=10, kendall=8, MIA=ratio, AUC = 0.90 ± 0.02, TPR @ 0.1 FPR = 0.75\n",
      "ngram=10, kendall=8, MIA=loss, AUC = 0.81 ± 0.03, TPR @ 0.1 FPR = 0.60\n",
      "ngram=10, kendall=8, MIA=lowercase, AUC = 0.66 ± 0.04, TPR @ 0.1 FPR = 0.31\n",
      "ngram=10, kendall=8, MIA=minkprob, AUC = 0.86 ± 0.03, TPR @ 0.1 FPR = 0.50\n",
      "ngram=10, kendall=8, MIA=zlib, AUC = 0.80 ± 0.04, TPR @ 0.1 FPR = 0.61\n",
      "-----\n"
     ]
    },
    {
     "name": "stderr",
     "output_type": "stream",
     "text": [
      "\n"
     ]
    }
   ],
   "source": [
    "ngram_aucs = defaultdict(dict)\n",
    "\n",
    "for ngram in ngrams:\n",
    "    kendall_values = ngram_to_kendal_vals[ngram]\n",
    "\n",
    "    for kendall in tqdm(kendall_values):\n",
    "        \n",
    "        model_path = BASE_PATH.format(kendall=kendall, ngram=ngram)\n",
    "\n",
    "        score_members = {}\n",
    "        score_non_members = {}\n",
    "        \n",
    "        target_model = AutoModelForCausalLM.from_pretrained(model_path).to(target_device)\n",
    "\n",
    "        # first: non members\n",
    "        print(\"Running on non members...\")\n",
    "        non_member_target_ppl = ppl_from_text(non_member_texts, target_model, target_tokenizer, target_device)\n",
    "        non_member_llama_ppl = ppl_from_text(non_member_texts, llama_model, llama_tokenizer, llama_device)\n",
    "        non_member_lower_target_ppl = ppl_from_text(non_member_texts_lower, target_model, target_tokenizer, target_device)\n",
    "\n",
    "        target_tokens_non_members = target_tokenizer.batch_encode_plus(non_member_texts, return_tensors=\"pt\", padding=\"longest\").to(target_device)\n",
    "        non_member_zlib_entropy = [len(zlib.compress(x.encode()))/len(x) for x in non_member_texts]\n",
    "            \n",
    "        score_non_members[\"ratio\"] = non_member_target_ppl / non_member_llama_ppl\n",
    "        score_non_members[\"loss\"] = non_member_target_ppl\n",
    "        score_non_members[\"lowercase\"] = non_member_target_ppl / non_member_lower_target_ppl\n",
    "        score_non_members[\"minkprob\"] = -min_k_prob(target_model, target_tokens_non_members.input_ids, target_tokens_non_members.attention_mask)\n",
    "        score_non_members[\"zlib\"] = np.log(non_member_target_ppl) / non_member_zlib_entropy\n",
    "\n",
    "        # now: members\n",
    "        print(\"Running on canaries...\")\n",
    "        og_canary_target_ppl = ppl_from_text(og_canary_texts, target_model, target_tokenizer, target_device)\n",
    "        og_canary_llama_ppl = ppl_from_text(og_canary_texts, llama_model, llama_tokenizer, llama_device)\n",
    "        og_canary_lower_target_ppl = ppl_from_text(og_canary_texts_lower, target_model, target_tokenizer, target_device)\n",
    "\n",
    "        target_tokens_og_canary = target_tokenizer.batch_encode_plus(og_canary_texts, return_tensors=\"pt\", padding=\"longest\").to(target_device)\n",
    "        og_canary_zlib_entropy = [len(zlib.compress(x.encode()))/len(x) for x in og_canary_texts]\n",
    "\n",
    "        score_members[\"ratio\"] = og_canary_target_ppl / og_canary_llama_ppl\n",
    "        score_members[\"loss\"] = og_canary_target_ppl\n",
    "        score_members[\"lowercase\"] = og_canary_target_ppl / og_canary_lower_target_ppl\n",
    "        score_members[\"minkprob\"] = -min_k_prob(target_model, target_tokens_og_canary.input_ids, target_tokens_og_canary.attention_mask)\n",
    "        score_members[\"zlib\"] = np.log(og_canary_target_ppl) / og_canary_zlib_entropy\n",
    "\n",
    "        for mia in score_members:\n",
    "            aucs = get_auc_with_bootstrapping(ratio_members=score_members[mia], ratio_non_members=score_non_members[mia])\n",
    "            tpr_at = tpr_at_fpr(score_members[mia], score_non_members[mia], target_fpr=0.1)\n",
    "            print(f\"ngram={ngram}, kendall={kendall}, MIA={mia}, AUC = {np.mean(aucs):.2f} ± {np.std(aucs):.2f}, TPR @ 0.1 FPR = {tpr_at:.2f}\")\n",
    "            ngram_aucs[f\"ngram{ngram}_kendall{kendall}\"][mia] = aucs\n",
    "            \n",
    "        print('-----')"
   ]
  },
  {
   "cell_type": "code",
   "execution_count": null,
   "id": "7e146a13",
   "metadata": {},
   "outputs": [],
   "source": [
    "with open(\"SOME_DATA_DIR/results_kendall_tau.pickle\", \"wb\") as f:\n",
    "    pickle.dump(ngram_aucs, f)\n",
    "    \n",
    "with open(\"SOME_DATA_DIR/results_kendall_tau.pickle\", \"rb\") as f:\n",
    "    ngram_aucs = pickle.load(f)  "
   ]
  },
  {
   "cell_type": "markdown",
   "id": "347e8b65",
   "metadata": {},
   "source": [
    "## Now let's create the figure"
   ]
  },
  {
   "cell_type": "code",
   "execution_count": 18,
   "id": "832a0cbd",
   "metadata": {},
   "outputs": [],
   "source": [
    "def compute_rho(phi_fuz: float, phi_exact: dict):\n",
    "\n",
    "    lambda_ = None\n",
    "    max_key = max(phi_exact.keys())\n",
    "    \n",
    "    # first if the target is smaller than the smallest for exact\n",
    "    if phi_fuz <= phi_exact[1]:\n",
    "        lambda_ = 1\n",
    "        return lambda_ + (phi_fuz - phi_exact[lambda_]) / (phi_exact[lambda_+1] - phi_exact[lambda_])\n",
    "    \n",
    "    # then if the target is larger than the larger for exact\n",
    "    elif phi_fuz >= phi_exact[max_key]:\n",
    "        lambda_ = max_key\n",
    "        neq = lambda_ + (phi_fuz - phi_exact[lambda_]) / (phi_exact[lambda_] - phi_exact[lambda_ - 1])\n",
    "    \n",
    "    # do interpolation otherwise\n",
    "    else:\n",
    "        for n in range(1, max_key):\n",
    "            if phi_exact[n] <= phi_fuz and phi_exact[n+1] >= phi_fuz:\n",
    "                lambda_ = n\n",
    "        neq = lambda_ + (phi_fuz - phi_exact[lambda_]) / (phi_exact[lambda_ + 1] - phi_exact[lambda_])\n",
    "        \n",
    "    return (neq - 1) / 9.0\n",
    "  \n",
    "def smooth_curve(nrep_aucs, mia = 'ratio', window_size=3):\n",
    "    \n",
    "    original_values =  [np.mean(nrep_aucs[n][mia]) for n in range(1,max(nrep_aucs.keys())+1)]\n",
    "\n",
    "    # Apply a moving average with a window of 3\n",
    "    smoothed_values = np.convolve(original_values, np.ones(window_size) / window_size, mode='valid')\n",
    "\n",
    "    # Extend smoothed values to match original length\n",
    "    smoothed_values = np.concatenate(([original_values[0]], smoothed_values, [original_values[-1]]))\n",
    "        \n",
    "    return {n:smoothed_values[i] for i, n in enumerate(range(1,max(nrep_aucs.keys())+1))}"
   ]
  },
  {
   "cell_type": "code",
   "execution_count": null,
   "id": "982abdd3",
   "metadata": {},
   "outputs": [],
   "source": [
    "# and also the exact duplicates\n",
    "with open(\"SOME_DATA_DIR/nrep_aucs_gptneo1B_exactduplicates_lr2e5.pickle\", \"rb\") as f:\n",
    "   nrep_aucs = pickle.load(f)\n",
    "   \n",
    "all_mias = ('loss', 'ratio', 'lowercase', 'minkprob', 'zlib')\n",
    "\n",
    "all_phi_exact = dict()\n",
    "\n",
    "for mia in all_mias:\n",
    "    all_phi_exact[mia] = smooth_curve(nrep_aucs, mia=mia, window_size=3)"
   ]
  },
  {
   "cell_type": "code",
   "execution_count": null,
   "id": "38d1662e",
   "metadata": {},
   "outputs": [
    {
     "data": {
      "image/png": "[encoded data removed]",
      "text/plain": [
       "<Figure size 500x500 with 1 Axes>"
      ]
     },
     "metadata": {},
     "output_type": "display_data"
    }
   ],
   "source": [
    "import matplotlib.pyplot as plt\n",
    "\n",
    "# get the data for baselines\n",
    "with open(\"SOME_DATA_DIR/results_n_gram_scrambled.pickle\", \"rb\") as f:\n",
    "    all_scrambled_results = pickle.load(f)\n",
    "\n",
    "mia = 'ratio'\n",
    "colors = ['darkblue', 'slateblue', 'cornflowerblue']\n",
    "plt.figure(figsize = (5, 5))\n",
    "for i, ngram in enumerate((2,5,10)):\n",
    "    kendall_values = ngram_to_kendal_vals[ngram]\n",
    "    key = f'ngram{ngram}_kendall%d'\n",
    "\n",
    "    n_eqs_to_plot = dict()\n",
    "    for n in kendall_values:\n",
    "        # print(n,key, key % n)\n",
    "        n_eqs_to_plot[n] = [compute_rho(phi_fuz=auc, phi_exact=all_phi_exact[mia]) for auc in ngram_aucs[key % n][mia]] \n",
    "    plt.plot([0] + kendall_values,  [1] + [np.mean(n_eqs_to_plot[n]) for n in kendall_values], '-o', color=colors[i], markersize=5,\n",
    "             markeredgecolor='white', markerfacecolor=colors[i], markeredgewidth=0.5, label=rf\"$n={ngram}$\")\n",
    "    \n",
    "    # get the baseline too as a horizontal line\n",
    "    baseline = compute_rho(phi_fuz=np.mean(all_scrambled_results[ngram][mia]), phi_exact=all_phi_exact[mia]) \n",
    "    plt.axhline(y=baseline, color=colors[i], linestyle='--', alpha=0.8, linewidth=1)\n",
    "    \n",
    "# add rthe legend for baseline\n",
    "plt.axhline(y=2.0, color='black', linestyle='--', alpha=0.8, linewidth=1, label = f\"Baseline ($X_{{insert}}=\\infty$)\")\n",
    "\n",
    "plt.xlabel(r'Kendall-Tau distance ($\\tau$)', fontsize = 13)\n",
    "plt.ylabel(r\"Exact duplicate equivalent $\\rho$\", fontsize = 13)\n",
    "plt.legend(loc='upper right', fontsize=13)\n",
    "plt.xticks([0, 2, 4, 6, 8, 10], [0.0, 0.2, 0.4, 0.6, 0.8, 1.0])\n",
    "plt.grid(alpha = 0.8, which='both', axis='both')\n",
    "plt.xlim(-0.2, 10.2)\n",
    "plt.ylim(-0.05, 1.05)\n",
    "#plt.savefig('/data/igor/canary/near_duplicate_experiment_neurips/figures/kendall.pdf', bbox_inches='tight')\n",
    "plt.show()"
   ]
  },
  {
   "cell_type": "code",
   "execution_count": null,
   "id": "b7e187e4",
   "metadata": {},
   "outputs": [],
   "source": []
  }
 ],
 "metadata": {
  "kernelspec": {
   "display_name": "canary",
   "language": "python",
   "name": "python3"
  },
  "language_info": {
   "codemirror_mode": {
    "name": "ipython",
    "version": 3
   },
   "file_extension": ".py",
   "mimetype": "text/x-python",
   "name": "python",
   "nbconvert_exporter": "python",
   "pygments_lexer": "ipython3",
   "version": "3.9.21"
  }
 },
 "nbformat": 4,
 "nbformat_minor": 5
}
