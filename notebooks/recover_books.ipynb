{
 "cells": [
  {
   "cell_type": "markdown",
   "metadata": {},
   "source": [
    "## Get the 100 books to use for finetuning "
   ]
  },
  {
   "cell_type": "code",
   "execution_count": null,
   "metadata": {},
   "outputs": [],
   "source": [
    "from datasets import load_dataset\n",
    "import pickle"
   ]
  },
  {
   "cell_type": "code",
   "execution_count": null,
   "metadata": {},
   "outputs": [
    {
     "name": "stderr",
     "output_type": "stream",
     "text": [
      "Generating train split: 100%|██████████| 9542/9542 [00:32<00:00, 297.09 examples/s]\n"
     ]
    }
   ],
   "source": [
    "# let's get the original set of books scraped from PG\n",
    "\n",
    "dataset = load_dataset('imperial-cpg/project-gutenberg-extended', cache_dir=\"CACHE_DIR\")"
   ]
  },
  {
   "cell_type": "code",
   "execution_count": 4,
   "metadata": {},
   "outputs": [],
   "source": [
    "# in our work, we sampled 100 random books from this dataset. \n",
    "# we also provide the exact book titles we used for reproducibility\n",
    "\n",
    "target_titles = ['A Letter to John Wilkes, Esq.',\n",
    " 'London in the Time of the Tudors',\n",
    " 'The American Missionary -- Volume 37, No. 7, July, 1883',\n",
    " 'The Brass Check',\n",
    " 'Birds of Song and Story',\n",
    " 'Westy Martin in the Yellowstone',\n",
    " 'Minos of Sardanes',\n",
    " 'In and About Drury Lane, and Other Papers Vol. 1 (of 2)',\n",
    " 'The House of the Secret',\n",
    " 'The Heritage of The South',\n",
    " 'The island pirate, a tale of the Mississippi',\n",
    " 'The Gun Alley Tragedy',\n",
    " 'The Good Seed',\n",
    " 'The Ballantyne Press and its founders, 1796-1908',\n",
    " 'Verse',\n",
    " 'Modern Short Stories',\n",
    " 'Silver Rags',\n",
    " 'Martian Terror',\n",
    " 'Illuminated illustrations of Froissart',\n",
    " 'Medical Inquiries and Observations, Vol. 1',\n",
    " 'The Follies of a Day; or, The Marriage of Figaro',\n",
    " 'Mercy Flight',\n",
    " 'The Bombay City Police',\n",
    " 'On the Architectural History of Chester Cathedral',\n",
    " 'Death and Taxes',\n",
    " 'A Cigarette Clew; Or, \"Salted\" For a Million',\n",
    " 'Adventures in Silence',\n",
    " 'Another Earth',\n",
    " 'Yermah the Dorado: The story of a lost race',\n",
    " 'The Warlock Of Sharrador',\n",
    " \"Tom Watson's Magazine, Vol. I, No. 4, June 1905\",\n",
    " 'A Cruel Enigma',\n",
    " 'West African Folk-Tales',\n",
    " 'The time-raider',\n",
    " 'American problems',\n",
    " 'Index of the Project Gutenberg Works of Bayard Taylor',\n",
    " 'Blacks and Bushrangers',\n",
    " 'Outposts of Asia',\n",
    " 'St. Nicholas Book of Plays & Operettas (Second Series)',\n",
    " 'Polite Conversation',\n",
    " 'Le chevalier de Maison-Rouge',\n",
    " 'The Pinafore Picture Book: the Story of H.M.S. Pinafore',\n",
    " 'How to Use a Galvanic Battery in Medicine and Surgery',\n",
    " 'Arabic Thought and its Place in History',\n",
    " 'Fine Feathers',\n",
    " \"The Photographer's Evidence\",\n",
    " 'A corner in corn; or, How a Chicago boy did the trick',\n",
    " 'Jewels and the woman: The romance, magic and art of feminine adornment',\n",
    " 'Rising in the worldA tale for the rich and poor',\n",
    " 'The Blue Castle: a novel',\n",
    " 'The National Geographic Magazine, Vol. II., No. 5, April, 1891',\n",
    " 'Tales from silver lands',\n",
    " 'The declaration and confession of Robert WattWritten, subscribed, & delivered by himself, the evening before his execution, for high treason, at Edinburgh, October 15, 1794',\n",
    " 'The Sinister Invasion',\n",
    " '\"The spirit of \\'76\": Some recollections of the artist and the painting',\n",
    " 'Hey Rub-a-dub-dub: A Book of the Mystery and Wonder and Terror of Life',\n",
    " 'Assignment In the Dawn',\n",
    " 'The World of Flying Saucers: A Scientific Examination of a Major Myth of the Space Age',\n",
    " 'Account of an expedition to the interior of New Holland',\n",
    " 'The Thirteenth Man',\n",
    " 'Doomsday on Ajiat',\n",
    " 'Trouble',\n",
    " 'Colonel Edward Buncombe, Fifth North Carolina Continental Regiment',\n",
    " 'Lectures on the rise and development of medieval architecture; vol. 1',\n",
    " 'Spanish and Indian place names of California: Their Meaning and Their Romance',\n",
    " 'The hope of happiness',\n",
    " 'Index of Project Gutenberg Works on Black History',\n",
    " \"Josiah Allen's Wife as a P. A. and P. I.\",\n",
    " 'Thirty yearsâ\\x80\\x99 history of the church and congregation in Princeâ\\x80\\x99s street chapel, Norwich',\n",
    " 'Leaves From the Journal of Our Life in the Highlands, From 1848 to 1861',\n",
    " 'The Seven Sisters of Sleep',\n",
    " \"'And So Ad Infinitum' (The Life of the Insects)\",\n",
    " 'The Postal Service (Fifth Edition)',\n",
    " 'The ruined cities of Mashonaland: Being a record of excavation and exploration in 1891',\n",
    " 'Severn & Somme',\n",
    " 'The Republic of Costa Rica',\n",
    " 'Dangerous Dilemmas',\n",
    " 'The Holy Piby',\n",
    " 'Witchcraft & Second Sight in the Highlands & Islands of Scotland',\n",
    " 'Tales of the Unexpected',\n",
    " 'Magna Carta and Other Addresses',\n",
    " 'Mona Maclean, Medical Student: A Novel',\n",
    " 'Navaho Legends',\n",
    " 'In this our world',\n",
    " \"A Sharper's Downfall; Or, Into the Net\",\n",
    " 'Negro workaday songs',\n",
    " 'PicciolaThe prisoner of Fenestrella or, captivity captive',\n",
    " 'A monograph on sleep and dream: their physiology and psychology',\n",
    " 'Danforth Plays the Game',\n",
    " 'Observations on the Automaton Chess Player',\n",
    " 'The Tournament--Its Periods and Phases',\n",
    " 'Redevelopment',\n",
    " 'The castles and abbeys of England; Vol. 1 of 2',\n",
    " \"Harper's Round Table, September 15, 1896\",\n",
    " 'Gold Hunting in Alaska',\n",
    " 'The Ivory Tower',\n",
    " 'Retrospective exhibition of important works of John Singer Sargent, February 23rd to March 22nd, 1924',\n",
    " \"John Cheap, the Chapman's Library. Vol. 2: Religious and\",\n",
    " 'The works of the Rev. John Wesley, Vol. 05 (of 32)',\n",
    " 'In a Yellow Wood']"
   ]
  },
  {
   "cell_type": "code",
   "execution_count": 5,
   "metadata": {},
   "outputs": [],
   "source": [
    "target_indices = []\n",
    "all_titles = dataset['train']['book_title']\n",
    "\n",
    "for title in target_titles:\n",
    "    index = all_titles.index(title)\n",
    "    target_indices.append(index)"
   ]
  },
  {
   "cell_type": "code",
   "execution_count": 6,
   "metadata": {},
   "outputs": [
    {
     "data": {
      "text/plain": [
       "Dataset({\n",
       "    features: ['book_title', 'original_publication_year', 'text', 'gutenberg_release_date'],\n",
       "    num_rows: 100\n",
       "})"
      ]
     },
     "execution_count": 6,
     "metadata": {},
     "output_type": "execute_result"
    }
   ],
   "source": [
    "# now get the actual books\n",
    "subset = dataset['train'].select(target_indices)\n",
    "subset"
   ]
  },
  {
   "cell_type": "code",
   "execution_count": null,
   "metadata": {},
   "outputs": [
    {
     "name": "stderr",
     "output_type": "stream",
     "text": [
      "Saving the dataset (1/1 shards): 100%|██████████| 100/100 [00:00<00:00, 434.08 examples/s]\n"
     ]
    }
   ],
   "source": [
    "# save this where desired\n",
    "subset.save_to_disk('SOME_DATA_DIR/clean_books_to_inject_neardupl_100')"
   ]
  }
 ],
 "metadata": {
  "kernelspec": {
   "display_name": "canary",
   "language": "python",
   "name": "python3"
  },
  "language_info": {
   "codemirror_mode": {
    "name": "ipython",
    "version": 3
   },
   "file_extension": ".py",
   "mimetype": "text/x-python",
   "name": "python",
   "nbconvert_exporter": "python",
   "pygments_lexer": "ipython3",
   "version": "3.9.21"
  }
 },
 "nbformat": 4,
 "nbformat_minor": 2
}
