{
 "cells": [
  {
   "cell_type": "code",
   "execution_count": null,
   "id": "3fb59a93-8f34-4f49-9dba-89f0cc79770a",
   "metadata": {},
   "outputs": [],
   "source": [
    "import sys\n",
    "sys.path.append(\"PATH_TO_SRC_DIR\") # Replace with the actual path to your source directory\n",
    "\n",
    "# Enable hot autoreload\n",
    "%load_ext autoreload\n",
    "%autoreload 2"
   ]
  },
  {
   "cell_type": "code",
   "execution_count": 2,
   "id": "cacaf596-0603-4531-af0a-59e6192c84de",
   "metadata": {},
   "outputs": [
    {
     "name": "stderr",
     "output_type": "stream",
     "text": [
      "/home/matthieu/miniconda3/envs/canary/lib/python3.9/site-packages/tqdm/auto.py:21: TqdmWarning: IProgress not found. Please update jupyter and ipywidgets. See https://ipywidgets.readthedocs.io/en/stable/user_install.html\n",
      "  from .autonotebook import tqdm as notebook_tqdm\n"
     ]
    }
   ],
   "source": [
    "import pickle\n",
    "import numpy as np\n",
    "from sklearn.metrics import roc_curve\n",
    "import torch\n",
    "from typing import Sequence\n",
    "from collections import defaultdict\n",
    "from transformers import AutoModelForCausalLM, AutoTokenizer, LlamaTokenizer, LlamaForCausalLM\n",
    "from utils import compute_perplexity, ratio_auc, min_k_prob\n",
    "import zlib\n",
    "\n",
    "np.random.seed(42)"
   ]
  },
  {
   "cell_type": "code",
   "execution_count": null,
   "id": "f7a28dad-15c3-4c18-b840-5c87ef9b4608",
   "metadata": {},
   "outputs": [],
   "source": [
    "OG_NON_MEMBER_PATH = \"SOME_DATA_DIR/non_members.pickle\"\n",
    "OG_CANARY_PATH = \"SOME_DATA_DIR/members.pickle\"\n",
    "\n",
    "LLAMA_TOKENIZER_PATH = \"SOME_DATA_DIR/Llama-2-7b-hf/\"\n",
    "LLAMA_MODEL_PATH = \"SOME_DATA_DIR/Llama-2-7b-hf/\"\n",
    "\n",
    "TARGET_MODEL = \"EleutherAI/gpt-neo-1.3B\""
   ]
  },
  {
   "cell_type": "markdown",
   "id": "c8f13aea-f7f0-4f28-a320-24823699f518",
   "metadata": {},
   "source": [
    "## Let's just implement the MIA based on the original reference sequences for all T. "
   ]
  },
  {
   "cell_type": "code",
   "execution_count": 4,
   "id": "ad4841e5-b9dc-4587-95ef-1b3ddce13341",
   "metadata": {},
   "outputs": [],
   "source": [
    "llama_device = \"cuda:1\"\n",
    "llama_tokenizer = LlamaTokenizer.from_pretrained(LLAMA_TOKENIZER_PATH, torch_dtype=torch.float16)\n",
    "llama_tokenizer.pad_token = llama_tokenizer.eos_token\n",
    "#llama_model = LlamaForCausalLM.from_pretrained(LLAMA_MODEL_PATH).to(llama_device)\n",
    "\n",
    "target_tokenizer = AutoTokenizer.from_pretrained(TARGET_MODEL)\n",
    "target_tokenizer.pad_token = target_tokenizer.eos_token\n",
    "target_device = \"cuda:0\""
   ]
  },
  {
   "cell_type": "code",
   "execution_count": 5,
   "id": "b562cb14-46cd-4458-b204-40245dd13643",
   "metadata": {},
   "outputs": [],
   "source": [
    "# Let's get the canary text\n",
    "with open(OG_CANARY_PATH, 'rb') as f:\n",
    "    og_canaries = pickle.load(f)\n",
    "    \n",
    "og_canary_texts = [target_tokenizer.decode(og_canary) for og_canary in og_canaries]\n",
    "og_canary_texts_lower = [x.lower() for x in og_canary_texts]\n",
    "\n",
    "# and the non member text\n",
    "with open(OG_NON_MEMBER_PATH, 'rb') as f:\n",
    "    non_members = pickle.load(f)\n",
    "\n",
    "non_member_texts = [target_tokenizer.decode(non_member) for non_member in non_members]\n",
    "non_member_texts_lower = [x.lower() for x in non_member_texts]"
   ]
  },
  {
   "cell_type": "markdown",
   "id": "385d1781-40a5-4266-b231-225e88e9c8c3",
   "metadata": {},
   "source": [
    "What do we need for the AUC? \n",
    "\n",
    "So that's just using the croissant_T loss of the reference canary. \n",
    "\n",
    "And using the loss of the same croissant_T model on the non-members. "
   ]
  },
  {
   "cell_type": "code",
   "execution_count": 6,
   "id": "8a2532c8",
   "metadata": {},
   "outputs": [],
   "source": [
    "def roc_auc(members: Sequence[float], non_members: Sequence[float]):\n",
    "    y = []\n",
    "    y_true = []\n",
    "\n",
    "    y.extend(members)\n",
    "    y.extend(non_members)\n",
    "\n",
    "    y_true.extend([0] * len(members))\n",
    "    y_true.extend([1] * len(non_members))\n",
    "\n",
    "    fpr, tpr, _ = roc_curve(y_true, y)\n",
    "\n",
    "    return fpr, tpr"
   ]
  },
  {
   "cell_type": "code",
   "execution_count": 7,
   "id": "fd334b74",
   "metadata": {},
   "outputs": [],
   "source": [
    "def tpr_at_fpr(members, non_members, target_fpr):\n",
    "    fpr, tpr = roc_auc(members, non_members)\n",
    "\n",
    "    index = np.abs(fpr - target_fpr).argmin()\n",
    "    return tpr[index]"
   ]
  },
  {
   "cell_type": "code",
   "execution_count": 8,
   "id": "38261151-752f-4c25-b929-b73336d9ca3e",
   "metadata": {},
   "outputs": [],
   "source": [
    "def get_auc_with_bootstrapping(ratio_members, ratio_non_members, k=25):\n",
    "    all_aucs = list()\n",
    "    for _ in range(k):\n",
    "        subset_members = np.random.choice(ratio_members, len(ratio_members))\n",
    "        subset_non_members = np.random.choice(ratio_non_members, len(ratio_non_members))\n",
    "        auc = ratio_auc(members=subset_members, non_members=subset_non_members)\n",
    "        all_aucs.append(auc)\n",
    "    return np.array(all_aucs)"
   ]
  },
  {
   "cell_type": "code",
   "execution_count": 9,
   "id": "0828868a",
   "metadata": {},
   "outputs": [],
   "source": [
    "def ppl_from_text(texts, model, tokenizer, device):\n",
    "    tokens = tokenizer.batch_encode_plus(texts, return_tensors=\"pt\", padding=\"longest\").to(device)\n",
    "    ppl = compute_perplexity(\n",
    "        model,\n",
    "        tokens.input_ids[:, 1:],\n",
    "        tokens.attention_mask[:, 1:],\n",
    "        ignore_prefix=None\n",
    "    )\n",
    "\n",
    "    return ppl"
   ]
  },
  {
   "cell_type": "markdown",
   "id": "683262b6",
   "metadata": {},
   "source": [
    "## Let's start with the scrambled n-grams"
   ]
  },
  {
   "cell_type": "code",
   "execution_count": 10,
   "id": "a8338358",
   "metadata": {},
   "outputs": [
    {
     "data": {
      "text/plain": [
       "[1, 2, 5, 10, 20, 50]"
      ]
     },
     "execution_count": 10,
     "metadata": {},
     "output_type": "execute_result"
    }
   ],
   "source": [
    "all_ns = [1, 2, 5, 10, 20, 50]\n",
    "all_ns"
   ]
  },
  {
   "cell_type": "code",
   "execution_count": null,
   "id": "5cdd8ab5",
   "metadata": {},
   "outputs": [
    {
     "name": "stdout",
     "output_type": "stream",
     "text": [
      "n= 1\n"
     ]
    },
    {
     "name": "stderr",
     "output_type": "stream",
     "text": [
      "Loading checkpoint shards: 100%|██████████| 2/2 [00:24<00:00, 12.28s/it]\n"
     ]
    },
    {
     "name": "stdout",
     "output_type": "stream",
     "text": [
      "Running on non members...\n",
      "Running on canaries...\n",
      "n=1, MIA=ratio, AUC = 0.73 ± 0.03, TPR @ 0.1 FPR = 0.38\n",
      "n=1, MIA=loss, AUC = 0.69 ± 0.03, TPR @ 0.1 FPR = 0.28\n",
      "n=1, MIA=lowercase, AUC = 0.60 ± 0.05, TPR @ 0.1 FPR = 0.18\n",
      "n=1, MIA=minkprob, AUC = 0.74 ± 0.04, TPR @ 0.1 FPR = 0.24\n",
      "n=1, MIA=zlib, AUC = 0.64 ± 0.04, TPR @ 0.1 FPR = 0.18\n",
      "-------------------\n",
      "n= 2\n"
     ]
    },
    {
     "name": "stderr",
     "output_type": "stream",
     "text": [
      "Loading checkpoint shards: 100%|██████████| 2/2 [00:22<00:00, 11.46s/it]\n"
     ]
    },
    {
     "name": "stdout",
     "output_type": "stream",
     "text": [
      "Running on non members...\n",
      "Running on canaries...\n",
      "n=2, MIA=ratio, AUC = 0.76 ± 0.03, TPR @ 0.1 FPR = 0.47\n",
      "n=2, MIA=loss, AUC = 0.70 ± 0.04, TPR @ 0.1 FPR = 0.40\n",
      "n=2, MIA=lowercase, AUC = 0.61 ± 0.04, TPR @ 0.1 FPR = 0.22\n",
      "n=2, MIA=minkprob, AUC = 0.77 ± 0.04, TPR @ 0.1 FPR = 0.39\n",
      "n=2, MIA=zlib, AUC = 0.68 ± 0.05, TPR @ 0.1 FPR = 0.35\n",
      "-------------------\n",
      "n= 5\n"
     ]
    },
    {
     "name": "stderr",
     "output_type": "stream",
     "text": [
      "Loading checkpoint shards: 100%|██████████| 2/2 [00:17<00:00,  8.77s/it]\n"
     ]
    },
    {
     "name": "stdout",
     "output_type": "stream",
     "text": [
      "Running on non members...\n",
      "Running on canaries...\n",
      "n=5, MIA=ratio, AUC = 0.83 ± 0.03, TPR @ 0.1 FPR = 0.44\n",
      "n=5, MIA=loss, AUC = 0.76 ± 0.03, TPR @ 0.1 FPR = 0.48\n",
      "n=5, MIA=lowercase, AUC = 0.63 ± 0.04, TPR @ 0.1 FPR = 0.24\n",
      "n=5, MIA=minkprob, AUC = 0.80 ± 0.03, TPR @ 0.1 FPR = 0.40\n",
      "n=5, MIA=zlib, AUC = 0.73 ± 0.04, TPR @ 0.1 FPR = 0.44\n",
      "-------------------\n",
      "n= 10\n"
     ]
    },
    {
     "name": "stderr",
     "output_type": "stream",
     "text": [
      "Loading checkpoint shards: 100%|██████████| 2/2 [00:11<00:00,  5.99s/it]\n"
     ]
    },
    {
     "name": "stdout",
     "output_type": "stream",
     "text": [
      "Running on non members...\n",
      "Running on canaries...\n",
      "n=10, MIA=ratio, AUC = 0.88 ± 0.02, TPR @ 0.1 FPR = 0.62\n",
      "n=10, MIA=loss, AUC = 0.81 ± 0.03, TPR @ 0.1 FPR = 0.50\n",
      "n=10, MIA=lowercase, AUC = 0.65 ± 0.04, TPR @ 0.1 FPR = 0.24\n",
      "n=10, MIA=minkprob, AUC = 0.85 ± 0.03, TPR @ 0.1 FPR = 0.57\n",
      "n=10, MIA=zlib, AUC = 0.78 ± 0.03, TPR @ 0.1 FPR = 0.53\n",
      "-------------------\n",
      "n= 20\n"
     ]
    },
    {
     "name": "stderr",
     "output_type": "stream",
     "text": [
      "Loading checkpoint shards: 100%|██████████| 2/2 [00:13<00:00,  6.99s/it]\n"
     ]
    },
    {
     "name": "stdout",
     "output_type": "stream",
     "text": [
      "Running on non members...\n",
      "Running on canaries...\n",
      "n=20, MIA=ratio, AUC = 0.92 ± 0.02, TPR @ 0.1 FPR = 0.78\n",
      "n=20, MIA=loss, AUC = 0.86 ± 0.03, TPR @ 0.1 FPR = 0.71\n",
      "n=20, MIA=lowercase, AUC = 0.66 ± 0.04, TPR @ 0.1 FPR = 0.30\n",
      "n=20, MIA=minkprob, AUC = 0.89 ± 0.02, TPR @ 0.1 FPR = 0.74\n",
      "n=20, MIA=zlib, AUC = 0.83 ± 0.02, TPR @ 0.1 FPR = 0.65\n",
      "-------------------\n",
      "n= 50\n"
     ]
    },
    {
     "name": "stderr",
     "output_type": "stream",
     "text": [
      "Loading checkpoint shards: 100%|██████████| 2/2 [00:18<00:00,  9.35s/it]\n"
     ]
    },
    {
     "name": "stdout",
     "output_type": "stream",
     "text": [
      "Running on non members...\n",
      "Running on canaries...\n",
      "n=50, MIA=ratio, AUC = 0.95 ± 0.01, TPR @ 0.1 FPR = 0.87\n",
      "n=50, MIA=loss, AUC = 0.90 ± 0.02, TPR @ 0.1 FPR = 0.80\n",
      "n=50, MIA=lowercase, AUC = 0.70 ± 0.04, TPR @ 0.1 FPR = 0.34\n",
      "n=50, MIA=minkprob, AUC = 0.93 ± 0.02, TPR @ 0.1 FPR = 0.81\n",
      "n=50, MIA=zlib, AUC = 0.88 ± 0.03, TPR @ 0.1 FPR = 0.74\n",
      "-------------------\n"
     ]
    }
   ],
   "source": [
    "n_scrambled_aucs = defaultdict(dict)\n",
    "\n",
    "for n in all_ns:\n",
    "    \n",
    "    MODEL_CHECKPOINT_PATH = f\"SOME_DATA_DIR/EleutherAI_gpt-neo-1.3B_checkpoints/EleutherAI_gpt-neo-1.3B_gptneo1B_near_duplicates_scrambled_n{n}_lr2e5\"\n",
    "\n",
    "    print(\"n=\", n)\n",
    "\n",
    "    score_members = {}\n",
    "    score_non_members = {}\n",
    "        \n",
    "    target_model = AutoModelForCausalLM.from_pretrained(MODEL_CHECKPOINT_PATH).to(target_device)\n",
    "\n",
    "    # first: non members\n",
    "    print(\"Running on non members...\")\n",
    "    non_member_target_ppl = ppl_from_text(non_member_texts, target_model, target_tokenizer, target_device)\n",
    "    non_member_llama_ppl = ppl_from_text(non_member_texts, llama_model, llama_tokenizer, llama_device)\n",
    "    non_member_lower_target_ppl = ppl_from_text(non_member_texts_lower, target_model, target_tokenizer, target_device)\n",
    "\n",
    "    target_tokens_non_members = target_tokenizer.batch_encode_plus(non_member_texts, return_tensors=\"pt\", padding=\"longest\").to(target_device)\n",
    "    non_member_zlib_entropy = [len(zlib.compress(x.encode()))/len(x) for x in non_member_texts]\n",
    "        \n",
    "    score_non_members[\"ratio\"] = non_member_target_ppl / non_member_llama_ppl\n",
    "    score_non_members[\"loss\"] = non_member_target_ppl\n",
    "    score_non_members[\"lowercase\"] = non_member_target_ppl / non_member_lower_target_ppl\n",
    "    score_non_members[\"minkprob\"] = -min_k_prob(target_model, target_tokens_non_members.input_ids, target_tokens_non_members.attention_mask)\n",
    "    score_non_members[\"zlib\"] = np.log(non_member_target_ppl) / non_member_zlib_entropy\n",
    "\n",
    "    # now: non members\n",
    "    print(\"Running on canaries...\")\n",
    "    og_canary_target_ppl = ppl_from_text(og_canary_texts, target_model, target_tokenizer, target_device)\n",
    "    og_canary_llama_ppl = ppl_from_text(og_canary_texts, llama_model, llama_tokenizer, llama_device)\n",
    "    og_canary_lower_target_ppl = ppl_from_text(og_canary_texts_lower, target_model, target_tokenizer, target_device)\n",
    "\n",
    "    target_tokens_og_canary = target_tokenizer.batch_encode_plus(og_canary_texts, return_tensors=\"pt\", padding=\"longest\").to(target_device)\n",
    "    og_canary_zlib_entropy = [len(zlib.compress(x.encode()))/len(x) for x in og_canary_texts]\n",
    "\n",
    "    score_members[\"ratio\"] = og_canary_target_ppl / og_canary_llama_ppl\n",
    "    score_members[\"loss\"] = og_canary_target_ppl\n",
    "    score_members[\"lowercase\"] = og_canary_target_ppl / og_canary_lower_target_ppl\n",
    "    score_members[\"minkprob\"] = -min_k_prob(target_model, target_tokens_og_canary.input_ids, target_tokens_og_canary.attention_mask)\n",
    "    score_members[\"zlib\"] = np.log(og_canary_target_ppl) / og_canary_zlib_entropy\n",
    "\n",
    "    for mia in score_members:\n",
    "        aucs = get_auc_with_bootstrapping(ratio_members=score_members[mia], ratio_non_members=score_non_members[mia])\n",
    "        tpr_at = tpr_at_fpr(score_members[mia], score_non_members[mia], target_fpr=0.1)\n",
    "        print(f\"n={n}, MIA={mia}, AUC = {np.mean(aucs):.2f} ± {np.std(aucs):.2f}, TPR @ 0.1 FPR = {tpr_at:.2f}\")\n",
    "        n_scrambled_aucs[n][mia] = aucs\n",
    "    print(\"-------------------\")"
   ]
  },
  {
   "cell_type": "code",
   "execution_count": null,
   "id": "f85efe92",
   "metadata": {},
   "outputs": [],
   "source": [
    "with open(\".SOME_DATA_DIR/results_n_gram_scrambled.pickle\", \"wb\") as f:\n",
    "    pickle.dump(n_scrambled_aucs, f)\n",
    "    \n",
    "with open(\"SOME_DATA_DIR/results_n_gram_scrambled.pickle\", \"rb\") as f:\n",
    "    n_scrambled_aucs = pickle.load(f)  "
   ]
  },
  {
   "cell_type": "markdown",
   "id": "b4bd9765",
   "metadata": {},
   "source": [
    "## Now the insertions"
   ]
  },
  {
   "cell_type": "code",
   "execution_count": null,
   "id": "1d43b51a",
   "metadata": {},
   "outputs": [
    {
     "name": "stdout",
     "output_type": "stream",
     "text": [
      "n= 1\n"
     ]
    },
    {
     "name": "stderr",
     "output_type": "stream",
     "text": [
      "Loading checkpoint shards: 100%|██████████| 2/2 [00:18<00:00,  9.21s/it]\n"
     ]
    },
    {
     "name": "stdout",
     "output_type": "stream",
     "text": [
      "Running on non members...\n",
      "Running on canaries...\n",
      "n=1, MIA=ratio, AUC = 0.71 ± 0.03, TPR @ 0.1 FPR = 0.37\n",
      "n=1, MIA=loss, AUC = 0.65 ± 0.03, TPR @ 0.1 FPR = 0.29\n",
      "n=1, MIA=lowercase, AUC = 0.58 ± 0.04, TPR @ 0.1 FPR = 0.20\n",
      "n=1, MIA=minkprob, AUC = 0.68 ± 0.04, TPR @ 0.1 FPR = 0.23\n",
      "n=1, MIA=zlib, AUC = 0.63 ± 0.04, TPR @ 0.1 FPR = 0.22\n",
      "-------------------\n",
      "n= 2\n"
     ]
    },
    {
     "name": "stderr",
     "output_type": "stream",
     "text": [
      "Loading checkpoint shards: 100%|██████████| 2/2 [00:21<00:00, 10.56s/it]\n"
     ]
    },
    {
     "name": "stdout",
     "output_type": "stream",
     "text": [
      "Running on non members...\n",
      "Running on canaries...\n",
      "n=2, MIA=ratio, AUC = 0.77 ± 0.04, TPR @ 0.1 FPR = 0.45\n",
      "n=2, MIA=loss, AUC = 0.69 ± 0.04, TPR @ 0.1 FPR = 0.31\n",
      "n=2, MIA=lowercase, AUC = 0.59 ± 0.04, TPR @ 0.1 FPR = 0.23\n",
      "n=2, MIA=minkprob, AUC = 0.73 ± 0.03, TPR @ 0.1 FPR = 0.29\n",
      "n=2, MIA=zlib, AUC = 0.67 ± 0.03, TPR @ 0.1 FPR = 0.28\n",
      "-------------------\n",
      "n= 5\n"
     ]
    },
    {
     "name": "stderr",
     "output_type": "stream",
     "text": [
      "Loading checkpoint shards: 100%|██████████| 2/2 [00:16<00:00,  8.19s/it]\n"
     ]
    },
    {
     "name": "stdout",
     "output_type": "stream",
     "text": [
      "Running on non members...\n",
      "Running on canaries...\n",
      "n=5, MIA=ratio, AUC = 0.90 ± 0.02, TPR @ 0.1 FPR = 0.73\n",
      "n=5, MIA=loss, AUC = 0.81 ± 0.02, TPR @ 0.1 FPR = 0.58\n",
      "n=5, MIA=lowercase, AUC = 0.63 ± 0.02, TPR @ 0.1 FPR = 0.27\n",
      "n=5, MIA=minkprob, AUC = 0.84 ± 0.03, TPR @ 0.1 FPR = 0.49\n",
      "n=5, MIA=zlib, AUC = 0.80 ± 0.04, TPR @ 0.1 FPR = 0.58\n",
      "-------------------\n",
      "n= 10\n"
     ]
    },
    {
     "name": "stderr",
     "output_type": "stream",
     "text": [
      "Loading checkpoint shards: 100%|██████████| 2/2 [00:15<00:00,  7.64s/it]\n"
     ]
    },
    {
     "name": "stdout",
     "output_type": "stream",
     "text": [
      "Running on non members...\n",
      "Running on canaries...\n",
      "n=10, MIA=ratio, AUC = 0.94 ± 0.01, TPR @ 0.1 FPR = 0.82\n",
      "n=10, MIA=loss, AUC = 0.88 ± 0.02, TPR @ 0.1 FPR = 0.72\n",
      "n=10, MIA=lowercase, AUC = 0.68 ± 0.05, TPR @ 0.1 FPR = 0.29\n",
      "n=10, MIA=minkprob, AUC = 0.90 ± 0.02, TPR @ 0.1 FPR = 0.81\n",
      "n=10, MIA=zlib, AUC = 0.85 ± 0.03, TPR @ 0.1 FPR = 0.68\n",
      "-------------------\n",
      "n= 20\n"
     ]
    },
    {
     "name": "stderr",
     "output_type": "stream",
     "text": [
      "Loading checkpoint shards: 100%|██████████| 2/2 [00:26<00:00, 13.33s/it]\n"
     ]
    },
    {
     "name": "stdout",
     "output_type": "stream",
     "text": [
      "Running on non members...\n",
      "Running on canaries...\n",
      "n=20, MIA=ratio, AUC = 0.96 ± 0.02, TPR @ 0.1 FPR = 0.90\n",
      "n=20, MIA=loss, AUC = 0.90 ± 0.02, TPR @ 0.1 FPR = 0.74\n",
      "n=20, MIA=lowercase, AUC = 0.69 ± 0.04, TPR @ 0.1 FPR = 0.34\n",
      "n=20, MIA=minkprob, AUC = 0.93 ± 0.02, TPR @ 0.1 FPR = 0.89\n",
      "n=20, MIA=zlib, AUC = 0.88 ± 0.02, TPR @ 0.1 FPR = 0.73\n",
      "-------------------\n",
      "n= 50\n"
     ]
    },
    {
     "name": "stderr",
     "output_type": "stream",
     "text": [
      "Loading checkpoint shards: 100%|██████████| 2/2 [00:24<00:00, 12.13s/it]\n"
     ]
    },
    {
     "name": "stdout",
     "output_type": "stream",
     "text": [
      "Running on non members...\n",
      "Running on canaries...\n",
      "n=50, MIA=ratio, AUC = 0.97 ± 0.01, TPR @ 0.1 FPR = 0.91\n",
      "n=50, MIA=loss, AUC = 0.92 ± 0.02, TPR @ 0.1 FPR = 0.84\n",
      "n=50, MIA=lowercase, AUC = 0.73 ± 0.03, TPR @ 0.1 FPR = 0.36\n",
      "n=50, MIA=minkprob, AUC = 0.94 ± 0.02, TPR @ 0.1 FPR = 0.89\n",
      "n=50, MIA=zlib, AUC = 0.91 ± 0.02, TPR @ 0.1 FPR = 0.77\n",
      "-------------------\n"
     ]
    }
   ],
   "source": [
    "X_insertions = 10\n",
    "\n",
    "n_insert10_aucs = defaultdict(dict)\n",
    "\n",
    "for n in all_ns:\n",
    "    \n",
    "    MODEL_CHECKPOINT_PATH = f\"SOME_DATA_DIR/model_checkpoints/EleutherAI_gpt-neo-1.3B_checkpoints/EleutherAI_gpt-neo-1.3B_gptneo1B_near_duplicates_insertionX={X_insertions}_n{n}_lr2e5\"\n",
    "\n",
    "    print(\"n=\", n)\n",
    "\n",
    "    score_members = {}\n",
    "    score_non_members = {}\n",
    "        \n",
    "    target_model = AutoModelForCausalLM.from_pretrained(MODEL_CHECKPOINT_PATH).to(target_device)\n",
    "\n",
    "    # first: non members\n",
    "    print(\"Running on non members...\")\n",
    "    non_member_target_ppl = ppl_from_text(non_member_texts, target_model, target_tokenizer, target_device)\n",
    "    non_member_llama_ppl = ppl_from_text(non_member_texts, llama_model, llama_tokenizer, llama_device)\n",
    "    non_member_lower_target_ppl = ppl_from_text(non_member_texts_lower, target_model, target_tokenizer, target_device)\n",
    "\n",
    "    target_tokens_non_members = target_tokenizer.batch_encode_plus(non_member_texts, return_tensors=\"pt\", padding=\"longest\").to(target_device)\n",
    "    non_member_zlib_entropy = [len(zlib.compress(x.encode()))/len(x) for x in non_member_texts]\n",
    "        \n",
    "    score_non_members[\"ratio\"] = non_member_target_ppl / non_member_llama_ppl\n",
    "    score_non_members[\"loss\"] = non_member_target_ppl\n",
    "    score_non_members[\"lowercase\"] = non_member_target_ppl / non_member_lower_target_ppl\n",
    "    score_non_members[\"minkprob\"] = -min_k_prob(target_model, target_tokens_non_members.input_ids, target_tokens_non_members.attention_mask)\n",
    "    score_non_members[\"zlib\"] = np.log(non_member_target_ppl) / non_member_zlib_entropy\n",
    "\n",
    "    # now: non members\n",
    "    print(\"Running on canaries...\")\n",
    "    og_canary_target_ppl = ppl_from_text(og_canary_texts, target_model, target_tokenizer, target_device)\n",
    "    og_canary_llama_ppl = ppl_from_text(og_canary_texts, llama_model, llama_tokenizer, llama_device)\n",
    "    og_canary_lower_target_ppl = ppl_from_text(og_canary_texts_lower, target_model, target_tokenizer, target_device)\n",
    "\n",
    "    target_tokens_og_canary = target_tokenizer.batch_encode_plus(og_canary_texts, return_tensors=\"pt\", padding=\"longest\").to(target_device)\n",
    "    og_canary_zlib_entropy = [len(zlib.compress(x.encode()))/len(x) for x in og_canary_texts]\n",
    "\n",
    "    score_members[\"ratio\"] = og_canary_target_ppl / og_canary_llama_ppl\n",
    "    score_members[\"loss\"] = og_canary_target_ppl\n",
    "    score_members[\"lowercase\"] = og_canary_target_ppl / og_canary_lower_target_ppl\n",
    "    score_members[\"minkprob\"] = -min_k_prob(target_model, target_tokens_og_canary.input_ids, target_tokens_og_canary.attention_mask)\n",
    "    score_members[\"zlib\"] = np.log(og_canary_target_ppl) / og_canary_zlib_entropy\n",
    "\n",
    "    for mia in score_members:\n",
    "        aucs = get_auc_with_bootstrapping(ratio_members=score_members[mia], ratio_non_members=score_non_members[mia])\n",
    "        tpr_at = tpr_at_fpr(score_members[mia], score_non_members[mia], target_fpr=0.1)\n",
    "        print(f\"n={n}, MIA={mia}, AUC = {np.mean(aucs):.2f} ± {np.std(aucs):.2f}, TPR @ 0.1 FPR = {tpr_at:.2f}\")\n",
    "        n_insert10_aucs[n][mia] = aucs\n",
    "    print(\"-------------------\")"
   ]
  },
  {
   "cell_type": "code",
   "execution_count": null,
   "id": "4ea482b8",
   "metadata": {},
   "outputs": [],
   "source": [
    "with open(\"SOME_DATA_DIR/results_n_gram_insert10.pickle\", \"wb\") as f:\n",
    "    pickle.dump(n_insert10_aucs, f)\n",
    "    \n",
    "with open(\"SOME_DATA_DIR/results_n_gram_insert10.pickle\", \"rb\") as f:\n",
    "    n_insert10_aucs = pickle.load(f)"
   ]
  },
  {
   "cell_type": "markdown",
   "id": "347e8b65",
   "metadata": {},
   "source": [
    "## Now let's create the figure"
   ]
  },
  {
   "cell_type": "code",
   "execution_count": 11,
   "id": "832a0cbd",
   "metadata": {},
   "outputs": [],
   "source": [
    "def compute_rho(phi_fuz: float, phi_exact: dict):\n",
    "\n",
    "    lambda_ = None\n",
    "    max_key = max(phi_exact.keys())\n",
    "    \n",
    "    # first if the target is smaller than the smallest for exact\n",
    "    if phi_fuz <= phi_exact[1]:\n",
    "        lambda_ = 1\n",
    "        return lambda_ + (phi_fuz - phi_exact[lambda_]) / (phi_exact[lambda_+1] - phi_exact[lambda_])\n",
    "    \n",
    "    # then if the target is larger than the larger for exact\n",
    "    elif phi_fuz >= phi_exact[max_key]:\n",
    "        lambda_ = max_key\n",
    "        neq = lambda_ + (phi_fuz - phi_exact[lambda_]) / (phi_exact[lambda_] - phi_exact[lambda_ - 1])\n",
    "    \n",
    "    # do interpolation otherwise\n",
    "    else:\n",
    "        for n in range(1, max_key):\n",
    "            if phi_exact[n] <= phi_fuz and phi_exact[n+1] >= phi_fuz:\n",
    "                lambda_ = n\n",
    "        neq = lambda_ + (phi_fuz - phi_exact[lambda_]) / (phi_exact[lambda_ + 1] - phi_exact[lambda_])\n",
    "        \n",
    "    return (neq - 1) / 9.0\n",
    "  \n",
    "def smooth_curve(nrep_aucs, mia = 'ratio', window_size=3):\n",
    "    \n",
    "    original_values =  [np.mean(nrep_aucs[n][mia]) for n in range(1,max(nrep_aucs.keys())+1)]\n",
    "\n",
    "    # Apply a moving average with a window of 3\n",
    "    smoothed_values = np.convolve(original_values, np.ones(window_size) / window_size, mode='valid')\n",
    "\n",
    "    # Extend smoothed values to match original length\n",
    "    smoothed_values = np.concatenate(([original_values[0]], smoothed_values, [original_values[-1]]))\n",
    "        \n",
    "    return {n:smoothed_values[i] for i, n in enumerate(range(1,max(nrep_aucs.keys())+1))}"
   ]
  },
  {
   "cell_type": "code",
   "execution_count": null,
   "id": "2a3feb5e",
   "metadata": {},
   "outputs": [],
   "source": [
    "# and also the exact duplicates\n",
    "with open(\"SOME_DATA_DIR/nrep_aucs_gptneo1B_exactduplicates_lr2e5.pickle\", \"rb\") as f:\n",
    "   nrep_aucs = pickle.load(f)\n",
    "   \n",
    "all_mias = ('loss', 'ratio', 'lowercase', 'minkprob', 'zlib')\n",
    "\n",
    "all_phi_exact = dict()\n",
    "\n",
    "for mia in all_mias:\n",
    "    all_phi_exact[mia] = smooth_curve(nrep_aucs, mia=mia, window_size=3)"
   ]
  },
  {
   "cell_type": "code",
   "execution_count": null,
   "id": "cc114222",
   "metadata": {},
   "outputs": [],
   "source": [
    "all_insert_results = {}\n",
    "\n",
    "for X in (1, 5, 10):\n",
    "    with open(f\"SOME_DATA_DIR/results_n_gram_insert{X}.pickle\", \"rb\") as f:\n",
    "        all_insert_results[X] = pickle.load(f)\n",
    "        \n",
    "# also open the scrambled\n",
    "with open(\"SOME_DATA_DIR/results_n_gram_scrambled.pickle\", \"rb\") as f:\n",
    "    all_scrambled_results = pickle.load(f)"
   ]
  },
  {
   "cell_type": "code",
   "execution_count": 26,
   "id": "8c134084",
   "metadata": {},
   "outputs": [
    {
     "data": {
      "image/png": "[encoded data removed]",
      "text/plain": [
       "<Figure size 500x500 with 1 Axes>"
      ]
     },
     "metadata": {},
     "output_type": "display_data"
    }
   ],
   "source": [
    "import matplotlib.pyplot as plt\n",
    "\n",
    "mia = 'ratio'\n",
    "colors = ['crimson', 'violet', 'darkviolet']\n",
    "\n",
    "plt.figure(figsize = (5, 5))\n",
    "\n",
    "# let's start with the ngram insertions\n",
    "for i, X in enumerate((1, 5, 10)):\n",
    "    n_aucs = all_insert_results[X]\n",
    "    rho_to_plot = dict()\n",
    "    for n in n_aucs:\n",
    "        rho_to_plot[n] = compute_rho(phi_fuz=np.mean(n_aucs[n][mia]), phi_exact=all_phi_exact[mia])\n",
    "            \n",
    "    plt.plot(all_ns + [100], [rho_to_plot[n] for n in all_ns] + [1], '-o', color=colors[i], markersize=5, alpha=0.8, \n",
    "                markeredgecolor='white', markerfacecolor=colors[i], markeredgewidth=0.5, label = f\"$X_{{insert}}={X}$\")\n",
    "    \n",
    "# let's do the scrambled\n",
    "n_aucs = all_scrambled_results\n",
    "rho_to_plot = dict()\n",
    "for n in n_aucs:\n",
    "    rho_to_plot[n] = compute_rho(phi_fuz=np.mean(n_aucs[n][mia]), phi_exact=all_phi_exact[mia])\n",
    "plt.plot(all_ns + [100], [rho_to_plot[n] for n in all_ns] + [1], '-o', color='purple', markersize=5, alpha=0.8, \n",
    "                markeredgecolor='white', markerfacecolor='purple', markeredgewidth=0.5, label = f\"$X_{{insert}}=\\infty$\")\n",
    "\n",
    "plt.xlabel(r'Size $n$ of n-gram', fontsize = 13)\n",
    "plt.ylabel(r\"Exact duplicate equivalent $\\rho$\", fontsize = 13)\n",
    "plt.legend(fontsize = 13, loc='lower right')\n",
    "plt.grid(alpha = 0.8)\n",
    "plt.ylim(-0.05, 1.05)\n",
    "plt.xlim(-2, 103)\n",
    "plt.show()"
   ]
  },
  {
   "cell_type": "code",
   "execution_count": null,
   "id": "3ea3db65",
   "metadata": {},
   "outputs": [],
   "source": []
  }
 ],
 "metadata": {
  "kernelspec": {
   "display_name": "canary",
   "language": "python",
   "name": "python3"
  },
  "language_info": {
   "codemirror_mode": {
    "name": "ipython",
    "version": 3
   },
   "file_extension": ".py",
   "mimetype": "text/x-python",
   "name": "python",
   "nbconvert_exporter": "python",
   "pygments_lexer": "ipython3",
   "version": "3.9.21"
  }
 },
 "nbformat": 4,
 "nbformat_minor": 5
}
